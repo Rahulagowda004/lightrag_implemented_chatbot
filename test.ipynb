{
 "cells": [
  {
   "cell_type": "code",
   "execution_count": 1,
   "metadata": {},
   "outputs": [
    {
     "data": {
      "text/plain": [
       "True"
      ]
     },
     "execution_count": 1,
     "metadata": {},
     "output_type": "execute_result"
    }
   ],
   "source": [
    "import os\n",
    "from dotenv import load_dotenv\n",
    "\n",
    "load_dotenv()"
   ]
  },
  {
   "cell_type": "code",
   "execution_count": 2,
   "metadata": {},
   "outputs": [
    {
     "name": "stdout",
     "output_type": "stream",
     "text": [
      "Neo4j Connection Parameters:\n",
      "URI: neo4j+s://bc33095c.databases.neo4j.io\n",
      "Username: neo4j\n",
      "Password: BpWzLNXymZI2invXPHkzOH-2DM_Vv5aQxdHXcCP2nAs\n"
     ]
    }
   ],
   "source": [
    "os.environ[\"NEO4J_URI\"] = os.getenv(\"NEO4J_URI\", \"bolt://localhost:7689\")\n",
    "os.environ[\"NEO4J_USERNAME\"] = os.getenv(\"NEO4J_USERNAME\", \"neo4j\")\n",
    "os.environ[\"NEO4J_PASSWORD\"] = os.getenv(\"NEO4J_PASSWORD\", \"password\")\n",
    "\n",
    "# Print all Neo4j connection parameters\n",
    "print(\"Neo4j Connection Parameters:\")\n",
    "print(f\"URI: {os.getenv('NEO4J_URI')}\")\n",
    "print(f\"Username: {os.getenv('NEO4J_USERNAME')}\")\n",
    "print(f\"Password: {os.getenv('NEO4J_PASSWORD')}\")"
   ]
  },
  {
   "cell_type": "code",
   "execution_count": null,
   "metadata": {},
   "outputs": [],
   "source": []
  }
 ],
 "metadata": {
  "kernelspec": {
   "display_name": "chatbot",
   "language": "python",
   "name": "python3"
  },
  "language_info": {
   "codemirror_mode": {
    "name": "ipython",
    "version": 3
   },
   "file_extension": ".py",
   "mimetype": "text/x-python",
   "name": "python",
   "nbconvert_exporter": "python",
   "pygments_lexer": "ipython3",
   "version": "3.12.9"
  }
 },
 "nbformat": 4,
 "nbformat_minor": 2
}
